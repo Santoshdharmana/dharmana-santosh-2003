{
 "cells": [
  {
   "cell_type": "code",
   "execution_count": 1,
   "id": "b1dd3078",
   "metadata": {},
   "outputs": [
    {
     "ename": "SyntaxError",
     "evalue": "invalid syntax (Temp/ipykernel_1736/3119543533.py, line 2)",
     "output_type": "error",
     "traceback": [
      "\u001b[1;36m  File \u001b[1;32m\"C:\\Users\\ashok\\AppData\\Local\\Temp/ipykernel_1736/3119543533.py\"\u001b[1;36m, line \u001b[1;32m2\u001b[0m\n\u001b[1;33m    a=[4] b=[[2,3,4],[4,5,6]]\u001b[0m\n\u001b[1;37m          ^\u001b[0m\n\u001b[1;31mSyntaxError\u001b[0m\u001b[1;31m:\u001b[0m invalid syntax\n"
     ]
    }
   ],
   "source": [
    "#Dimension of an array 1D, 2D or 3D\n",
    "a=[4] b=[[2,3,4],[4,5,6]]\n",
    "c=[[[2,3,4],[4,5,6]],[[2,3,4],[4,5,6]]]\n",
    "d=[[[[2,3,4],[4,5,6]],[[2,3,4],[4,5,6]]],[[[2,3,4],[4,5,6]],[[2,3,4],[4,5,6]]]]\n",
    "print(np.ndim(a))\n",
    "print(np.ndim(b))\n",
    "print(np.ndim(d))"
   ]
  },
  {
   "cell_type": "code",
   "execution_count": null,
   "id": "32d8b37a",
   "metadata": {},
   "outputs": [],
   "source": []
  }
 ],
 "metadata": {
  "kernelspec": {
   "display_name": "Python 3 (ipykernel)",
   "language": "python",
   "name": "python3"
  },
  "language_info": {
   "codemirror_mode": {
    "name": "ipython",
    "version": 3
   },
   "file_extension": ".py",
   "mimetype": "text/x-python",
   "name": "python",
   "nbconvert_exporter": "python",
   "pygments_lexer": "ipython3",
   "version": "3.9.7"
  }
 },
 "nbformat": 4,
 "nbformat_minor": 5
}
