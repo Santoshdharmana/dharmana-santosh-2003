{
 "cells": [
  {
   "cell_type": "code",
   "execution_count": 1,
   "id": "1efc9969",
   "metadata": {},
   "outputs": [
    {
     "name": "stdout",
     "output_type": "stream",
     "text": [
      "[[2, 3, 4], [3, 4, 6]]\n",
      "[[2 3 4]\n",
      " [3 4 6]]\n"
     ]
    }
   ],
   "source": [
    "# COnvert a 2D list into a Numpy array\n",
    "import numpy as np\n",
    "a=[[2,3,4],[3,4,6]]\n",
    "b=np.array(a)\n",
    "print(a)\n",
    "print(b)"
   ]
  },
  {
   "cell_type": "code",
   "execution_count": null,
   "id": "000db83c",
   "metadata": {},
   "outputs": [],
   "source": []
  }
 ],
 "metadata": {
  "kernelspec": {
   "display_name": "Python 3 (ipykernel)",
   "language": "python",
   "name": "python3"
  },
  "language_info": {
   "codemirror_mode": {
    "name": "ipython",
    "version": 3
   },
   "file_extension": ".py",
   "mimetype": "text/x-python",
   "name": "python",
   "nbconvert_exporter": "python",
   "pygments_lexer": "ipython3",
   "version": "3.9.7"
  }
 },
 "nbformat": 4,
 "nbformat_minor": 5
}
