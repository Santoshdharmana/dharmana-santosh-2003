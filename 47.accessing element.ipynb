{
 "cells": [
  {
   "cell_type": "code",
   "execution_count": 1,
   "id": "3bf49135",
   "metadata": {},
   "outputs": [
    {
     "name": "stdout",
     "output_type": "stream",
     "text": [
      "[[2 3 4 6]\n",
      " [3 4 6 7]\n",
      " [3 7 2 9]]\n",
      "7\n"
     ]
    }
   ],
   "source": [
    "# Accessing single element\n",
    "import numpy as np\n",
    "a=[[2,3,4,6],[3,4,6,7],[3,7,2,9]]\n",
    "#print(a)\n",
    "b=np.array(a)\n",
    "print(b)\n",
    "print(b[1,3])"
   ]
  },
  {
   "cell_type": "code",
   "execution_count": null,
   "id": "87f6ade9",
   "metadata": {},
   "outputs": [],
   "source": []
  }
 ],
 "metadata": {
  "kernelspec": {
   "display_name": "Python 3 (ipykernel)",
   "language": "python",
   "name": "python3"
  },
  "language_info": {
   "codemirror_mode": {
    "name": "ipython",
    "version": 3
   },
   "file_extension": ".py",
   "mimetype": "text/x-python",
   "name": "python",
   "nbconvert_exporter": "python",
   "pygments_lexer": "ipython3",
   "version": "3.9.7"
  }
 },
 "nbformat": 4,
 "nbformat_minor": 5
}
